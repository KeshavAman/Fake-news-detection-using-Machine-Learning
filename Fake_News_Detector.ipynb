{
  "nbformat": 4,
  "nbformat_minor": 0,
  "metadata": {
    "kernelspec": {
      "display_name": "Python 3",
      "language": "python",
      "name": "python3"
    },
    "language_info": {
      "codemirror_mode": {
        "name": "ipython",
        "version": 3
      },
      "file_extension": ".py",
      "mimetype": "text/x-python",
      "name": "python",
      "nbconvert_exporter": "python",
      "pygments_lexer": "ipython3",
      "version": "3.8.5"
    },
    "colab": {
      "name": "Fake News Detector.ipynb",
      "provenance": [],
      "include_colab_link": true
    }
  },
  "cells": [
    {
      "cell_type": "markdown",
      "metadata": {
        "id": "view-in-github",
        "colab_type": "text"
      },
      "source": [
        "<a href=\"https://colab.research.google.com/github/KeshavAman/Fake-news-detection-using-Machine-Learning/blob/main/Fake_News_Detector.ipynb\" target=\"_parent\"><img src=\"https://colab.research.google.com/assets/colab-badge.svg\" alt=\"Open In Colab\"/></a>"
      ]
    },
    {
      "cell_type": "markdown",
      "metadata": {
        "id": "uaNw1UAtv1nB"
      },
      "source": [
        "**Importing of libraries**"
      ]
    },
    {
      "cell_type": "code",
      "metadata": {
        "id": "UQWJhocMinLf"
      },
      "source": [
        "import pandas as pd\n",
        "import numpy as np\n",
        "import matplotlib.pyplot as plt\n",
        "import seaborn as sns"
      ],
      "execution_count": 128,
      "outputs": []
    },
    {
      "cell_type": "markdown",
      "metadata": {
        "id": "JxgxQeHzv_F0"
      },
      "source": [
        "**Reading dataset**"
      ]
    },
    {
      "cell_type": "code",
      "metadata": {
        "id": "tnM5xZ33inLh"
      },
      "source": [
        "dataset = pd.read_csv('https://raw.githubusercontent.com/KeshavAman/Fake-news-detection-using-Machine-Learning/main/fake_new_dataset.csv')"
      ],
      "execution_count": 129,
      "outputs": []
    },
    {
      "cell_type": "markdown",
      "metadata": {
        "id": "8QWHBzjvwF4t"
      },
      "source": [
        "**Checking Information of our dataset**"
      ]
    },
    {
      "cell_type": "code",
      "metadata": {
        "colab": {
          "base_uri": "https://localhost:8080/"
        },
        "id": "Ex8hVrUsinLi",
        "outputId": "ab69d2bb-846b-46d1-c8d7-364ee01265df"
      },
      "source": [
        "dataset.info()"
      ],
      "execution_count": 130,
      "outputs": [
        {
          "output_type": "stream",
          "text": [
            "<class 'pandas.core.frame.DataFrame'>\n",
            "RangeIndex: 3119 entries, 0 to 3118\n",
            "Data columns (total 5 columns):\n",
            " #   Column       Non-Null Count  Dtype \n",
            "---  ------       --------------  ----- \n",
            " 0   Unnamed: 0   3119 non-null   int64 \n",
            " 1   title        3118 non-null   object\n",
            " 2   text         3119 non-null   object\n",
            " 3   subcategory  3119 non-null   object\n",
            " 4   label        3119 non-null   int64 \n",
            "dtypes: int64(2), object(3)\n",
            "memory usage: 122.0+ KB\n"
          ],
          "name": "stdout"
        }
      ]
    },
    {
      "cell_type": "markdown",
      "metadata": {
        "id": "Jt65dYVkwJ85"
      },
      "source": [
        "**Take a glance at our dataset**"
      ]
    },
    {
      "cell_type": "code",
      "metadata": {
        "colab": {
          "base_uri": "https://localhost:8080/",
          "height": 204
        },
        "id": "l__2__6KinLj",
        "outputId": "8210a74e-3938-4adc-cb98-8146129ba764"
      },
      "source": [
        "dataset.head()"
      ],
      "execution_count": 131,
      "outputs": [
        {
          "output_type": "execute_result",
          "data": {
            "text/html": [
              "<div>\n",
              "<style scoped>\n",
              "    .dataframe tbody tr th:only-of-type {\n",
              "        vertical-align: middle;\n",
              "    }\n",
              "\n",
              "    .dataframe tbody tr th {\n",
              "        vertical-align: top;\n",
              "    }\n",
              "\n",
              "    .dataframe thead th {\n",
              "        text-align: right;\n",
              "    }\n",
              "</style>\n",
              "<table border=\"1\" class=\"dataframe\">\n",
              "  <thead>\n",
              "    <tr style=\"text-align: right;\">\n",
              "      <th></th>\n",
              "      <th>Unnamed: 0</th>\n",
              "      <th>title</th>\n",
              "      <th>text</th>\n",
              "      <th>subcategory</th>\n",
              "      <th>label</th>\n",
              "    </tr>\n",
              "  </thead>\n",
              "  <tbody>\n",
              "    <tr>\n",
              "      <th>0</th>\n",
              "      <td>0</td>\n",
              "      <td>FACEBOOK DELETES MICHIGAN ANTI-LOCKDOWN GROUP ...</td>\n",
              "      <td>Facebook has shuttered a popular group for Mic...</td>\n",
              "      <td>false news</td>\n",
              "      <td>0</td>\n",
              "    </tr>\n",
              "    <tr>\n",
              "      <th>1</th>\n",
              "      <td>1</td>\n",
              "      <td>Other Viewpoints: COVID-19 is worse than the flu</td>\n",
              "      <td>We can now officially put to rest all comparis...</td>\n",
              "      <td>true</td>\n",
              "      <td>1</td>\n",
              "    </tr>\n",
              "    <tr>\n",
              "      <th>2</th>\n",
              "      <td>2</td>\n",
              "      <td>Bermuda's COVID-19 cases surpass 100</td>\n",
              "      <td>The Ministry of Health in Bermuda has confirme...</td>\n",
              "      <td>true</td>\n",
              "      <td>1</td>\n",
              "    </tr>\n",
              "    <tr>\n",
              "      <th>3</th>\n",
              "      <td>3</td>\n",
              "      <td>Purdue University says students face 'close to...</td>\n",
              "      <td>Purdue University President Mitch Daniels, the...</td>\n",
              "      <td>partially false</td>\n",
              "      <td>0</td>\n",
              "    </tr>\n",
              "    <tr>\n",
              "      <th>4</th>\n",
              "      <td>4</td>\n",
              "      <td>THE HIGH COST OF LOCKING DOWN AMERICA: “WE’VE ...</td>\n",
              "      <td>Locking down much of the country may have help...</td>\n",
              "      <td>false news</td>\n",
              "      <td>0</td>\n",
              "    </tr>\n",
              "  </tbody>\n",
              "</table>\n",
              "</div>"
            ],
            "text/plain": [
              "   Unnamed: 0  ... label\n",
              "0           0  ...     0\n",
              "1           1  ...     1\n",
              "2           2  ...     1\n",
              "3           3  ...     0\n",
              "4           4  ...     0\n",
              "\n",
              "[5 rows x 5 columns]"
            ]
          },
          "metadata": {
            "tags": []
          },
          "execution_count": 131
        }
      ]
    },
    {
      "cell_type": "markdown",
      "metadata": {
        "id": "w_4WOcO3wMhk"
      },
      "source": [
        "**Checking rows and columns of dataset**"
      ]
    },
    {
      "cell_type": "code",
      "metadata": {
        "colab": {
          "base_uri": "https://localhost:8080/"
        },
        "id": "5VYl71nxuiMT",
        "outputId": "9230e82c-a39d-4bd1-8937-5098d3eabf7d"
      },
      "source": [
        "dataset.shape"
      ],
      "execution_count": 132,
      "outputs": [
        {
          "output_type": "execute_result",
          "data": {
            "text/plain": [
              "(3119, 5)"
            ]
          },
          "metadata": {
            "tags": []
          },
          "execution_count": 132
        }
      ]
    },
    {
      "cell_type": "markdown",
      "metadata": {
        "id": "KpofRRk1wTzQ"
      },
      "source": [
        "**Dropping null values in dataset**"
      ]
    },
    {
      "cell_type": "code",
      "metadata": {
        "colab": {
          "base_uri": "https://localhost:8080/"
        },
        "id": "YoDVMvjLinLj",
        "outputId": "09434c94-651c-45df-9d9c-fd4d01967c8a"
      },
      "source": [
        "dataset.isnull().sum()"
      ],
      "execution_count": 133,
      "outputs": [
        {
          "output_type": "execute_result",
          "data": {
            "text/plain": [
              "Unnamed: 0     0\n",
              "title          1\n",
              "text           0\n",
              "subcategory    0\n",
              "label          0\n",
              "dtype: int64"
            ]
          },
          "metadata": {
            "tags": []
          },
          "execution_count": 133
        }
      ]
    },
    {
      "cell_type": "code",
      "metadata": {
        "colab": {
          "base_uri": "https://localhost:8080/"
        },
        "id": "5Dy5VSR3ubVf",
        "outputId": "25ca72ef-9729-4432-8eb6-f9eb61517110"
      },
      "source": [
        "dataset = dataset.dropna(axis = 0)\n",
        "dataset.shape"
      ],
      "execution_count": 137,
      "outputs": [
        {
          "output_type": "execute_result",
          "data": {
            "text/plain": [
              "(3119, 4)"
            ]
          },
          "metadata": {
            "tags": []
          },
          "execution_count": 137
        }
      ]
    },
    {
      "cell_type": "code",
      "metadata": {
        "colab": {
          "base_uri": "https://localhost:8080/",
          "height": 204
        },
        "id": "2i_L7dEmrlqO",
        "outputId": "1cf2d840-f2c3-45c3-caab-1b1e5f3b5f9e"
      },
      "source": [
        "dataset.head()"
      ],
      "execution_count": 138,
      "outputs": [
        {
          "output_type": "execute_result",
          "data": {
            "text/html": [
              "<div>\n",
              "<style scoped>\n",
              "    .dataframe tbody tr th:only-of-type {\n",
              "        vertical-align: middle;\n",
              "    }\n",
              "\n",
              "    .dataframe tbody tr th {\n",
              "        vertical-align: top;\n",
              "    }\n",
              "\n",
              "    .dataframe thead th {\n",
              "        text-align: right;\n",
              "    }\n",
              "</style>\n",
              "<table border=\"1\" class=\"dataframe\">\n",
              "  <thead>\n",
              "    <tr style=\"text-align: right;\">\n",
              "      <th></th>\n",
              "      <th>Unnamed: 0</th>\n",
              "      <th>text</th>\n",
              "      <th>subcategory</th>\n",
              "      <th>label</th>\n",
              "    </tr>\n",
              "  </thead>\n",
              "  <tbody>\n",
              "    <tr>\n",
              "      <th>0</th>\n",
              "      <td>0</td>\n",
              "      <td>Facebook has shuttered a popular group for Mic...</td>\n",
              "      <td>false news</td>\n",
              "      <td>0</td>\n",
              "    </tr>\n",
              "    <tr>\n",
              "      <th>1</th>\n",
              "      <td>1</td>\n",
              "      <td>We can now officially put to rest all comparis...</td>\n",
              "      <td>true</td>\n",
              "      <td>1</td>\n",
              "    </tr>\n",
              "    <tr>\n",
              "      <th>2</th>\n",
              "      <td>2</td>\n",
              "      <td>The Ministry of Health in Bermuda has confirme...</td>\n",
              "      <td>true</td>\n",
              "      <td>1</td>\n",
              "    </tr>\n",
              "    <tr>\n",
              "      <th>3</th>\n",
              "      <td>3</td>\n",
              "      <td>Purdue University President Mitch Daniels, the...</td>\n",
              "      <td>partially false</td>\n",
              "      <td>0</td>\n",
              "    </tr>\n",
              "    <tr>\n",
              "      <th>4</th>\n",
              "      <td>4</td>\n",
              "      <td>Locking down much of the country may have help...</td>\n",
              "      <td>false news</td>\n",
              "      <td>0</td>\n",
              "    </tr>\n",
              "  </tbody>\n",
              "</table>\n",
              "</div>"
            ],
            "text/plain": [
              "   Unnamed: 0  ... label\n",
              "0           0  ...     0\n",
              "1           1  ...     1\n",
              "2           2  ...     1\n",
              "3           3  ...     0\n",
              "4           4  ...     0\n",
              "\n",
              "[5 rows x 4 columns]"
            ]
          },
          "metadata": {
            "tags": []
          },
          "execution_count": 138
        }
      ]
    },
    {
      "cell_type": "markdown",
      "metadata": {
        "id": "oZ4ngu7dwfHQ"
      },
      "source": [
        "**Value count of dataset**"
      ]
    },
    {
      "cell_type": "code",
      "metadata": {
        "colab": {
          "base_uri": "https://localhost:8080/"
        },
        "id": "BPV2qjr4urP_",
        "outputId": "4528a2d2-af2c-4b6a-e478-ccc86dfc3394"
      },
      "source": [
        "dataset['label'].value_counts()"
      ],
      "execution_count": 139,
      "outputs": [
        {
          "output_type": "execute_result",
          "data": {
            "text/plain": [
              "1    2061\n",
              "0    1058\n",
              "Name: label, dtype: int64"
            ]
          },
          "metadata": {
            "tags": []
          },
          "execution_count": 139
        }
      ]
    },
    {
      "cell_type": "markdown",
      "metadata": {
        "id": "po_IQWYJwkoB"
      },
      "source": [
        "**Visualize the value count**"
      ]
    },
    {
      "cell_type": "code",
      "metadata": {
        "colab": {
          "base_uri": "https://localhost:8080/",
          "height": 350
        },
        "id": "CvjUC0bQuwql",
        "outputId": "1b0c2387-a7be-4f41-bccf-492bb24f6cfc"
      },
      "source": [
        "sns.countplot(dataset['label'])"
      ],
      "execution_count": 140,
      "outputs": [
        {
          "output_type": "stream",
          "text": [
            "/usr/local/lib/python3.7/dist-packages/seaborn/_decorators.py:43: FutureWarning: Pass the following variable as a keyword arg: x. From version 0.12, the only valid positional argument will be `data`, and passing other arguments without an explicit keyword will result in an error or misinterpretation.\n",
            "  FutureWarning\n"
          ],
          "name": "stderr"
        },
        {
          "output_type": "execute_result",
          "data": {
            "text/plain": [
              "<matplotlib.axes._subplots.AxesSubplot at 0x7f6ee26d2610>"
            ]
          },
          "metadata": {
            "tags": []
          },
          "execution_count": 140
        },
        {
          "output_type": "display_data",
          "data": {
            "image/png": "[encoded data removed]",
            "text/plain": [
              "<Figure size 432x288 with 1 Axes>"
            ]
          },
          "metadata": {
            "tags": [],
            "needs_background": "light"
          }
        }
      ]
    },
    {
      "cell_type": "markdown",
      "metadata": {
        "id": "noEoHOVowpBC"
      },
      "source": [
        "**Pairplot**"
      ]
    },
    {
      "cell_type": "code",
      "metadata": {
        "colab": {
          "base_uri": "https://localhost:8080/",
          "height": 214
        },
        "id": "VKlgVzL4vJGf",
        "outputId": "0a167306-5ab6-4e12-c594-eea8630df0d9"
      },
      "source": [
        "sns.pairplot(dataset, hue = 'label')"
      ],
      "execution_count": 141,
      "outputs": [
        {
          "output_type": "execute_result",
          "data": {
            "text/plain": [
              "<seaborn.axisgrid.PairGrid at 0x7f6ee264a5d0>"
            ]
          },
          "metadata": {
            "tags": []
          },
          "execution_count": 141
        },
        {
          "output_type": "display_data",
          "data": {
            "image/png": "[encoded data removed]",
            "text/plain": [
              "<Figure size 212.25x180 with 2 Axes>"
            ]
          },
          "metadata": {
            "tags": [],
            "needs_background": "light"
          }
        }
      ]
    },
    {
      "cell_type": "markdown",
      "metadata": {
        "id": "CPwibHHhwsYu"
      },
      "source": [
        "**Heatmap**"
      ]
    },
    {
      "cell_type": "code",
      "metadata": {
        "colab": {
          "base_uri": "https://localhost:8080/",
          "height": 286
        },
        "id": "McVVRsb8vkKE",
        "outputId": "4e5e4db7-dbee-425a-81fb-94f08d607f30"
      },
      "source": [
        "sns.heatmap(dataset.corr(), annot = True)"
      ],
      "execution_count": 142,
      "outputs": [
        {
          "output_type": "execute_result",
          "data": {
            "text/plain": [
              "<matplotlib.axes._subplots.AxesSubplot at 0x7f6ee24d9b10>"
            ]
          },
          "metadata": {
            "tags": []
          },
          "execution_count": 142
        },
        {
          "output_type": "display_data",
          "data": {
            "image/png": "[encoded data removed]",
            "text/plain": [
              "<Figure size 432x288 with 2 Axes>"
            ]
          },
          "metadata": {
            "tags": [],
            "needs_background": "light"
          }
        }
      ]
    },
    {
      "cell_type": "markdown",
      "metadata": {
        "id": "kckD50cQwwA4"
      },
      "source": [
        "**Splitting and Scaling of dataset**"
      ]
    },
    {
      "cell_type": "code",
      "metadata": {
        "id": "J9v0MIcXinLm"
      },
      "source": [
        "from sklearn.model_selection import train_test_split\n",
        "\n",
        "X = dataset.iloc[:,3:4].values\n",
        "Y = dataset.iloc[:,3].values\n",
        "X_train, X_test, Y_train, Y_test = train_test_split(X, Y,test_size = 0.25, random_state = 0)"
      ],
      "execution_count": 143,
      "outputs": []
    },
    {
      "cell_type": "code",
      "metadata": {
        "id": "mno8H2BmsUvQ"
      },
      "source": [
        "from sklearn.preprocessing import StandardScaler\n",
        "\n",
        "sc = StandardScaler()\n",
        "X_train = sc.fit_transform(X_train)\n",
        "X_test = sc.transform(X_test)"
      ],
      "execution_count": 144,
      "outputs": []
    },
    {
      "cell_type": "markdown",
      "metadata": {
        "id": "p7otUVb2w3ba"
      },
      "source": [
        "**Dimensions**"
      ]
    },
    {
      "cell_type": "code",
      "metadata": {
        "colab": {
          "base_uri": "https://localhost:8080/"
        },
        "id": "6RDued2UtT7p",
        "outputId": "64527a3c-7455-4665-c826-2c677d3f86aa"
      },
      "source": [
        "print(\"X_train shape : \",X_train.shape)\n",
        "print(\"X_test shape : \",X_test.shape)\n",
        "print(\"Y_train shape : \",Y_train.shape)\n",
        "print(\"Y_test shape : \",Y_test.shape)"
      ],
      "execution_count": 145,
      "outputs": [
        {
          "output_type": "stream",
          "text": [
            "X_train shape :  (2339, 1)\n",
            "X_test shape :  (780, 1)\n",
            "Y_train shape :  (2339,)\n",
            "Y_test shape :  (780,)\n"
          ],
          "name": "stdout"
        }
      ]
    },
    {
      "cell_type": "markdown",
      "metadata": {
        "id": "IlZs-1jyxCdP"
      },
      "source": [
        "**Using Naive Bayes**"
      ]
    },
    {
      "cell_type": "code",
      "metadata": {
        "id": "3ruFI3n3inLn"
      },
      "source": [
        "from sklearn.naive_bayes import GaussianNB\n",
        "\n",
        "nb = GaussianNB()\n",
        "nb.fit(X_train , Y_train)\n",
        "pred_nb = nb.predict(X_test)"
      ],
      "execution_count": 146,
      "outputs": []
    },
    {
      "cell_type": "code",
      "metadata": {
        "colab": {
          "base_uri": "https://localhost:8080/"
        },
        "id": "YY7kzGJatw_Z",
        "outputId": "62721835-8894-4f4c-d38e-8d31e5338897"
      },
      "source": [
        "from sklearn.metrics import confusion_matrix, classification_report\n",
        "\n",
        "print(confusion_matrix(Y_test, pred_nb))\n",
        "print(classification_report(Y_test, pred_nb))"
      ],
      "execution_count": 147,
      "outputs": [
        {
          "output_type": "stream",
          "text": [
            "[[268   0]\n",
            " [  0 512]]\n",
            "              precision    recall  f1-score   support\n",
            "\n",
            "           0       1.00      1.00      1.00       268\n",
            "           1       1.00      1.00      1.00       512\n",
            "\n",
            "    accuracy                           1.00       780\n",
            "   macro avg       1.00      1.00      1.00       780\n",
            "weighted avg       1.00      1.00      1.00       780\n",
            "\n"
          ],
          "name": "stdout"
        }
      ]
    },
    {
      "cell_type": "markdown",
      "metadata": {
        "id": "9VT-aP-sxHRv"
      },
      "source": [
        "**Using Random Forest**"
      ]
    },
    {
      "cell_type": "code",
      "metadata": {
        "id": "9t9yNZjvinLo"
      },
      "source": [
        "from sklearn.ensemble import RandomForestClassifier\n",
        "\n",
        "rfc = RandomForestClassifier(n_estimators=200)\n",
        "rfc.fit(X_train, Y_train)\n",
        "pred_rfc = rfc.predict(X_test)"
      ],
      "execution_count": 148,
      "outputs": []
    },
    {
      "cell_type": "code",
      "metadata": {
        "colab": {
          "base_uri": "https://localhost:8080/"
        },
        "id": "F0yTP0sxinLo",
        "outputId": "6b103416-fabf-41b0-8677-4ba7ff99a77d"
      },
      "source": [
        "from sklearn.metrics import confusion_matrix, classification_report\n",
        "\n",
        "print(confusion_matrix(Y_test, pred_rfc))\n",
        "print(classification_report(Y_test, pred_rfc))"
      ],
      "execution_count": 149,
      "outputs": [
        {
          "output_type": "stream",
          "text": [
            "[[268   0]\n",
            " [  0 512]]\n",
            "              precision    recall  f1-score   support\n",
            "\n",
            "           0       1.00      1.00      1.00       268\n",
            "           1       1.00      1.00      1.00       512\n",
            "\n",
            "    accuracy                           1.00       780\n",
            "   macro avg       1.00      1.00      1.00       780\n",
            "weighted avg       1.00      1.00      1.00       780\n",
            "\n"
          ],
          "name": "stdout"
        }
      ]
    },
    {
      "cell_type": "markdown",
      "metadata": {
        "id": "BFkG6KBexLgp"
      },
      "source": [
        "**Using Logistic Regression** "
      ]
    },
    {
      "cell_type": "code",
      "metadata": {
        "id": "Grsn8pi1inLo"
      },
      "source": [
        "from sklearn.linear_model import LogisticRegression\n",
        "\n",
        "lrr = LogisticRegression(random_state = 45)\n",
        "lrr.fit(X_train, Y_train)\n",
        "pred_lrr = lrr.predict(X_test)"
      ],
      "execution_count": 150,
      "outputs": []
    },
    {
      "cell_type": "code",
      "metadata": {
        "colab": {
          "base_uri": "https://localhost:8080/"
        },
        "id": "cWimwKLRinLp",
        "outputId": "873f5ff2-6de6-4c60-e4ba-507c8090f857"
      },
      "source": [
        "from sklearn.metrics import confusion_matrix, classification_report\n",
        "\n",
        "print(confusion_matrix(Y_test, pred_lrr))\n",
        "print(classification_report(Y_test, pred_lrr))"
      ],
      "execution_count": 151,
      "outputs": [
        {
          "output_type": "stream",
          "text": [
            "[[268   0]\n",
            " [  0 512]]\n",
            "              precision    recall  f1-score   support\n",
            "\n",
            "           0       1.00      1.00      1.00       268\n",
            "           1       1.00      1.00      1.00       512\n",
            "\n",
            "    accuracy                           1.00       780\n",
            "   macro avg       1.00      1.00      1.00       780\n",
            "weighted avg       1.00      1.00      1.00       780\n",
            "\n"
          ],
          "name": "stdout"
        }
      ]
    },
    {
      "cell_type": "markdown",
      "metadata": {
        "id": "Lexn99SdxR_3"
      },
      "source": [
        "**Using Support Vector Classifier**"
      ]
    },
    {
      "cell_type": "code",
      "metadata": {
        "id": "651r_3MainLp"
      },
      "source": [
        "from sklearn.svm import SVC\n",
        "\n",
        "svc = SVC()\n",
        "svc.fit(X_train, Y_train)\n",
        "pred_svc = svc.predict(X_test)"
      ],
      "execution_count": 152,
      "outputs": []
    },
    {
      "cell_type": "code",
      "metadata": {
        "colab": {
          "base_uri": "https://localhost:8080/"
        },
        "id": "gsj3QDheuMkZ",
        "outputId": "17b28930-49fd-419a-9491-00487dc6d501"
      },
      "source": [
        "from sklearn.metrics import confusion_matrix, classification_report\n",
        "\n",
        "print(confusion_matrix(Y_test, pred_svc))\n",
        "print(classification_report(Y_test, pred_svc))"
      ],
      "execution_count": 153,
      "outputs": [
        {
          "output_type": "stream",
          "text": [
            "[[268   0]\n",
            " [  0 512]]\n",
            "              precision    recall  f1-score   support\n",
            "\n",
            "           0       1.00      1.00      1.00       268\n",
            "           1       1.00      1.00      1.00       512\n",
            "\n",
            "    accuracy                           1.00       780\n",
            "   macro avg       1.00      1.00      1.00       780\n",
            "weighted avg       1.00      1.00      1.00       780\n",
            "\n"
          ],
          "name": "stdout"
        }
      ]
    },
    {
      "cell_type": "code",
      "metadata": {
        "id": "WW-j235Lxaqc"
      },
      "source": [
        ""
      ],
      "execution_count": 153,
      "outputs": []
    }
  ]
}